{
 "cells": [
  {
   "cell_type": "code",
   "execution_count": 70,
   "metadata": {
    "colab": {},
    "colab_type": "code",
    "id": "TxUvRYNU7rC_"
   },
   "outputs": [],
   "source": [
    "# -*- coding: utf-8 -*-\n",
    "import matplotlib.pyplot as plt\n",
    "import pandas\n",
    "import csv\n",
    "import math \n",
    "from sklearn.preprocessing import OneHotEncoder"
   ]
  },
  {
   "cell_type": "code",
   "execution_count": 71,
   "metadata": {},
   "outputs": [],
   "source": [
    "with open('data/netflix_titles.csv',encoding = \"utf-8\") as f:\n",
    "    reader = csv.reader(f)\n",
    "    data=next(reader)[1:-1]\n",
    "    del data[1]\n",
    "    del data[2]\n",
    "    del data[3]\n",
    "    data=[data]\n",
    "    for row in reader:\n",
    "        if \"Season\" in row[-3]:\n",
    "            continue\n",
    "        r=row[1:-1]\n",
    "        del r[1]\n",
    "        del r[2]\n",
    "        del r[3]\n",
    "        r[-2]=int(r[-2].replace('min',''))\n",
    "        data.append(r)\n",
    "    #print(data)"
   ]
  },
  {
   "cell_type": "code",
   "execution_count": 72,
   "metadata": {},
   "outputs": [],
   "source": [
    "with open('netflix.csv', 'w', encoding=\"utf-8\") as f:\n",
    "    writer = csv.writer(f)\n",
    "    for row in data:\n",
    "        writer.writerow(row)"
   ]
  },
  {
   "cell_type": "code",
   "execution_count": 73,
   "metadata": {},
   "outputs": [
    {
     "data": {
      "text/html": [
       "<div>\n",
       "<style scoped>\n",
       "    .dataframe tbody tr th:only-of-type {\n",
       "        vertical-align: middle;\n",
       "    }\n",
       "\n",
       "    .dataframe tbody tr th {\n",
       "        vertical-align: top;\n",
       "    }\n",
       "\n",
       "    .dataframe thead th {\n",
       "        text-align: right;\n",
       "    }\n",
       "</style>\n",
       "<table border=\"1\" class=\"dataframe\">\n",
       "  <thead>\n",
       "    <tr style=\"text-align: right;\">\n",
       "      <th></th>\n",
       "      <th>type</th>\n",
       "      <th>director</th>\n",
       "      <th>country</th>\n",
       "      <th>release_year</th>\n",
       "      <th>rating</th>\n",
       "      <th>duration</th>\n",
       "      <th>listed_in</th>\n",
       "    </tr>\n",
       "  </thead>\n",
       "  <tbody>\n",
       "    <tr>\n",
       "      <th>0</th>\n",
       "      <td>Movie</td>\n",
       "      <td>Richard Finn, Tim Maltby</td>\n",
       "      <td>United States, India, South Korea, China</td>\n",
       "      <td>2019</td>\n",
       "      <td>TV-PG</td>\n",
       "      <td>90</td>\n",
       "      <td>Children &amp; Family Movies, Comedies</td>\n",
       "    </tr>\n",
       "    <tr>\n",
       "      <th>1</th>\n",
       "      <td>Movie</td>\n",
       "      <td>NaN</td>\n",
       "      <td>United Kingdom</td>\n",
       "      <td>2016</td>\n",
       "      <td>TV-MA</td>\n",
       "      <td>94</td>\n",
       "      <td>Stand-Up Comedy</td>\n",
       "    </tr>\n",
       "    <tr>\n",
       "      <th>2</th>\n",
       "      <td>Movie</td>\n",
       "      <td>Fernando Lebrija</td>\n",
       "      <td>United States</td>\n",
       "      <td>2017</td>\n",
       "      <td>TV-14</td>\n",
       "      <td>99</td>\n",
       "      <td>Comedies</td>\n",
       "    </tr>\n",
       "    <tr>\n",
       "      <th>3</th>\n",
       "      <td>Movie</td>\n",
       "      <td>Gabe Ibáñez</td>\n",
       "      <td>Bulgaria, United States, Spain, Canada</td>\n",
       "      <td>2014</td>\n",
       "      <td>R</td>\n",
       "      <td>110</td>\n",
       "      <td>International Movies, Sci-Fi &amp; Fantasy, Thrillers</td>\n",
       "    </tr>\n",
       "    <tr>\n",
       "      <th>4</th>\n",
       "      <td>Movie</td>\n",
       "      <td>Rodrigo Toro, Francisco Schultz</td>\n",
       "      <td>Chile</td>\n",
       "      <td>2017</td>\n",
       "      <td>TV-MA</td>\n",
       "      <td>60</td>\n",
       "      <td>Stand-Up Comedy</td>\n",
       "    </tr>\n",
       "    <tr>\n",
       "      <th>5</th>\n",
       "      <td>Movie</td>\n",
       "      <td>Henrik Ruben Genz</td>\n",
       "      <td>United States, United Kingdom, Denmark, Sweden</td>\n",
       "      <td>2014</td>\n",
       "      <td>R</td>\n",
       "      <td>90</td>\n",
       "      <td>Action &amp; Adventure, Thrillers</td>\n",
       "    </tr>\n",
       "    <tr>\n",
       "      <th>6</th>\n",
       "      <td>Movie</td>\n",
       "      <td>José Miguel Contreras</td>\n",
       "      <td>NaN</td>\n",
       "      <td>2017</td>\n",
       "      <td>TV-MA</td>\n",
       "      <td>78</td>\n",
       "      <td>Stand-Up Comedy</td>\n",
       "    </tr>\n",
       "    <tr>\n",
       "      <th>7</th>\n",
       "      <td>Movie</td>\n",
       "      <td>Daniel Alfredson</td>\n",
       "      <td>Netherlands, Belgium, United Kingdom, United S...</td>\n",
       "      <td>2015</td>\n",
       "      <td>R</td>\n",
       "      <td>95</td>\n",
       "      <td>Action &amp; Adventure, Dramas, International Movies</td>\n",
       "    </tr>\n",
       "    <tr>\n",
       "      <th>8</th>\n",
       "      <td>Movie</td>\n",
       "      <td>NaN</td>\n",
       "      <td>NaN</td>\n",
       "      <td>2009</td>\n",
       "      <td>TV-Y7</td>\n",
       "      <td>58</td>\n",
       "      <td>Children &amp; Family Movies</td>\n",
       "    </tr>\n",
       "    <tr>\n",
       "      <th>9</th>\n",
       "      <td>Movie</td>\n",
       "      <td>Munjal Shroff, Tilak Shetty</td>\n",
       "      <td>NaN</td>\n",
       "      <td>2013</td>\n",
       "      <td>TV-Y7</td>\n",
       "      <td>62</td>\n",
       "      <td>Children &amp; Family Movies</td>\n",
       "    </tr>\n",
       "  </tbody>\n",
       "</table>\n",
       "</div>"
      ],
      "text/plain": [
       "    type                         director  \\\n",
       "0  Movie         Richard Finn, Tim Maltby   \n",
       "1  Movie                              NaN   \n",
       "2  Movie                 Fernando Lebrija   \n",
       "3  Movie                      Gabe Ibáñez   \n",
       "4  Movie  Rodrigo Toro, Francisco Schultz   \n",
       "5  Movie                Henrik Ruben Genz   \n",
       "6  Movie            José Miguel Contreras   \n",
       "7  Movie                 Daniel Alfredson   \n",
       "8  Movie                              NaN   \n",
       "9  Movie      Munjal Shroff, Tilak Shetty   \n",
       "\n",
       "                                             country  release_year rating  \\\n",
       "0           United States, India, South Korea, China          2019  TV-PG   \n",
       "1                                     United Kingdom          2016  TV-MA   \n",
       "2                                      United States          2017  TV-14   \n",
       "3             Bulgaria, United States, Spain, Canada          2014      R   \n",
       "4                                              Chile          2017  TV-MA   \n",
       "5     United States, United Kingdom, Denmark, Sweden          2014      R   \n",
       "6                                                NaN          2017  TV-MA   \n",
       "7  Netherlands, Belgium, United Kingdom, United S...          2015      R   \n",
       "8                                                NaN          2009  TV-Y7   \n",
       "9                                                NaN          2013  TV-Y7   \n",
       "\n",
       "   duration                                          listed_in  \n",
       "0        90                 Children & Family Movies, Comedies  \n",
       "1        94                                    Stand-Up Comedy  \n",
       "2        99                                           Comedies  \n",
       "3       110  International Movies, Sci-Fi & Fantasy, Thrillers  \n",
       "4        60                                    Stand-Up Comedy  \n",
       "5        90                      Action & Adventure, Thrillers  \n",
       "6        78                                    Stand-Up Comedy  \n",
       "7        95   Action & Adventure, Dramas, International Movies  \n",
       "8        58                           Children & Family Movies  \n",
       "9        62                           Children & Family Movies  "
      ]
     },
     "execution_count": 73,
     "metadata": {},
     "output_type": "execute_result"
    }
   ],
   "source": [
    "netflix = pandas.read_csv('netflix.csv')\n",
    "netflix.head(10)"
   ]
  },
  {
   "cell_type": "code",
   "execution_count": 13,
   "metadata": {},
   "outputs": [
    {
     "data": {
      "image/png": "[encoded data removed]",
      "text/plain": [
       "<Figure size 432x288 with 1 Axes>"
      ]
     },
     "metadata": {
      "needs_background": "light"
     },
     "output_type": "display_data"
    }
   ],
   "source": [
    "length = len(netflix[\"duration\"].unique())\n",
    "netflix.hist(column=\"duration\",bins=length, xlabelsize=15)\n",
    "plt.show()"
   ]
  },
  {
   "cell_type": "code",
   "execution_count": 14,
   "metadata": {},
   "outputs": [],
   "source": [
    "netflix = netflix[netflix[\"duration\"] < 250]"
   ]
  },
  {
   "cell_type": "code",
   "execution_count": 15,
   "metadata": {},
   "outputs": [
    {
     "data": {
      "image/png": "[encoded data removed]",
      "text/plain": [
       "<Figure size 432x288 with 1 Axes>"
      ]
     },
     "metadata": {
      "needs_background": "light"
     },
     "output_type": "display_data"
    }
   ],
   "source": [
    "length = len(netflix[\"duration\"].unique())\n",
    "netflix.hist(column=\"duration\",bins=length, xlabelsize=15)\n",
    "plt.show()"
   ]
  },
  {
   "cell_type": "code",
   "execution_count": 16,
   "metadata": {},
   "outputs": [],
   "source": [
    "#encode and bind\n",
    "def eab(original_dataframe, feature_to_encode):\n",
    "    dummies = pandas.get_dummies(original_dataframe[[feature_to_encode]])\n",
    "    res = pandas.concat([original_dataframe, dummies], axis=1)\n",
    "    res = res.drop([feature_to_encode], axis=1)\n",
    "    return(res)"
   ]
  },
  {
   "cell_type": "code",
   "execution_count": 17,
   "metadata": {},
   "outputs": [],
   "source": [
    "features_to_encode = ['type','rating']\n",
    "for feature in features_to_encode:\n",
    "    netflix=eab(netflix, feature)"
   ]
  },
  {
   "cell_type": "code",
   "execution_count": 74,
   "metadata": {},
   "outputs": [],
   "source": [
    "def feature_collect(netflix,column):\n",
    "    y=netflix[column].str.split(\",\")\n",
    "    feat=set()\n",
    "    for x in y.values:\n",
    "        if not isinstance(x,list):\n",
    "            feat.add(x)\n",
    "            continue\n",
    "        for val in x:\n",
    "            feat.add(val)\n",
    "    return feat"
   ]
  },
  {
   "cell_type": "code",
   "execution_count": 75,
   "metadata": {},
   "outputs": [],
   "source": [
    "def feat_encode(df,column):\n",
    "    features=feature_collect(df,column)\n",
    "    feat={}\n",
    "    for i,f in enumerate(features):\n",
    "        feat[f]=i\n",
    "    one_hot=[]\n",
    "    for names in df[column]:\n",
    "        if isinstance(names,float):\n",
    "            one_hot.append([feat[names]])\n",
    "            continue\n",
    "        temp=[]\n",
    "        for n in names.split(','):\n",
    "            temp.append(feat[n])\n",
    "        temp.sort()\n",
    "        one_hot.append(temp)\n",
    "    \n",
    "    return one_hot"
   ]
  },
  {
   "cell_type": "code",
   "execution_count": 76,
   "metadata": {},
   "outputs": [],
   "source": [
    "def encodeCol(df,column):\n",
    "    one_hot=feat_encode(df,column)\n",
    "    new_col={column+'_en':one_hot}\n",
    "    df2 = pandas.DataFrame(data=new_col)\n",
    "    df=df.drop(column,axis=1)\n",
    "    return pandas.concat([df, df2], axis=1)"
   ]
  },
  {
   "cell_type": "code",
   "execution_count": 55,
   "metadata": {},
   "outputs": [],
   "source": [
    "#netflix = pandas.read_csv('netflix2.csv')\n",
    "#MultiLabelBinarizer\n",
    "def mlb(df,column):\n",
    "    features=feature_collect(df,column)\n",
    "    feat={}\n",
    "    for i,f in enumerate(features):\n",
    "        feat[f]=i\n",
    "    one_hot=[]\n",
    "    for names in df[column]:\n",
    "        oh=[False]*len(feat)\n",
    "        if isinstance(names,float):\n",
    "            oh[feat[names]]=True\n",
    "            one_hot.append(oh)\n",
    "            continue\n",
    "        #ugly\n",
    "        #temp=[]\n",
    "        for n in names.split(','):\n",
    "            oh[feat[n]]=True\n",
    "            #temp.append(feat[n])\n",
    "        one_hot.append(oh)\n",
    "    return one_hot"
   ]
  },
  {
   "cell_type": "code",
   "execution_count": 57,
   "metadata": {},
   "outputs": [],
   "source": [
    "def one_hot_mul(df,column):\n",
    "    one_hot=mlb(df,column)\n",
    "    new_col={column+'_one_hot':one_hot}\n",
    "    df2 = pandas.DataFrame(data=new_col)\n",
    "    df=df.drop(column,axis=1)\n",
    "    return pandas.concat([df, df2], axis=1)"
   ]
  },
  {
   "cell_type": "code",
   "execution_count": 77,
   "metadata": {
    "scrolled": true
   },
   "outputs": [
    {
     "data": {
      "text/html": [
       "<div>\n",
       "<style scoped>\n",
       "    .dataframe tbody tr th:only-of-type {\n",
       "        vertical-align: middle;\n",
       "    }\n",
       "\n",
       "    .dataframe tbody tr th {\n",
       "        vertical-align: top;\n",
       "    }\n",
       "\n",
       "    .dataframe thead th {\n",
       "        text-align: right;\n",
       "    }\n",
       "</style>\n",
       "<table border=\"1\" class=\"dataframe\">\n",
       "  <thead>\n",
       "    <tr style=\"text-align: right;\">\n",
       "      <th></th>\n",
       "      <th>type</th>\n",
       "      <th>release_year</th>\n",
       "      <th>rating</th>\n",
       "      <th>duration</th>\n",
       "      <th>director_en</th>\n",
       "      <th>country_en</th>\n",
       "      <th>listed_in_en</th>\n",
       "    </tr>\n",
       "  </thead>\n",
       "  <tbody>\n",
       "    <tr>\n",
       "      <th>0</th>\n",
       "      <td>Movie</td>\n",
       "      <td>2019</td>\n",
       "      <td>TV-PG</td>\n",
       "      <td>90</td>\n",
       "      <td>[325, 1750]</td>\n",
       "      <td>[45, 54, 134, 159]</td>\n",
       "      <td>[17, 31]</td>\n",
       "    </tr>\n",
       "    <tr>\n",
       "      <th>1</th>\n",
       "      <td>Movie</td>\n",
       "      <td>2016</td>\n",
       "      <td>TV-MA</td>\n",
       "      <td>94</td>\n",
       "      <td>[0]</td>\n",
       "      <td>[7]</td>\n",
       "      <td>[29]</td>\n",
       "    </tr>\n",
       "    <tr>\n",
       "      <th>2</th>\n",
       "      <td>Movie</td>\n",
       "      <td>2017</td>\n",
       "      <td>TV-14</td>\n",
       "      <td>99</td>\n",
       "      <td>[2718]</td>\n",
       "      <td>[54]</td>\n",
       "      <td>[26]</td>\n",
       "    </tr>\n",
       "    <tr>\n",
       "      <th>3</th>\n",
       "      <td>Movie</td>\n",
       "      <td>2014</td>\n",
       "      <td>R</td>\n",
       "      <td>110</td>\n",
       "      <td>[3037]</td>\n",
       "      <td>[60, 85, 102, 129]</td>\n",
       "      <td>[13, 15, 33]</td>\n",
       "    </tr>\n",
       "    <tr>\n",
       "      <th>4</th>\n",
       "      <td>Movie</td>\n",
       "      <td>2017</td>\n",
       "      <td>TV-MA</td>\n",
       "      <td>60</td>\n",
       "      <td>[210, 785]</td>\n",
       "      <td>[119]</td>\n",
       "      <td>[29]</td>\n",
       "    </tr>\n",
       "  </tbody>\n",
       "</table>\n",
       "</div>"
      ],
      "text/plain": [
       "    type  release_year rating  duration  director_en          country_en  \\\n",
       "0  Movie          2019  TV-PG        90  [325, 1750]  [45, 54, 134, 159]   \n",
       "1  Movie          2016  TV-MA        94          [0]                 [7]   \n",
       "2  Movie          2017  TV-14        99       [2718]                [54]   \n",
       "3  Movie          2014      R       110       [3037]  [60, 85, 102, 129]   \n",
       "4  Movie          2017  TV-MA        60   [210, 785]               [119]   \n",
       "\n",
       "   listed_in_en  \n",
       "0      [17, 31]  \n",
       "1          [29]  \n",
       "2          [26]  \n",
       "3  [13, 15, 33]  \n",
       "4          [29]  "
      ]
     },
     "execution_count": 77,
     "metadata": {},
     "output_type": "execute_result"
    }
   ],
   "source": [
    "mlb_list=['director','country','listed_in']\n",
    "df=netflix.copy()\n",
    "for col in mlb_list:\n",
    "    df = encodeCol(df,col)\n",
    "df.head()"
   ]
  },
  {
   "cell_type": "code",
   "execution_count": null,
   "metadata": {},
   "outputs": [],
   "source": [
    "netflix.head()"
   ]
  },
  {
   "cell_type": "code",
   "execution_count": 78,
   "metadata": {},
   "outputs": [],
   "source": [
    "df.to_csv('netflix.csv', encoding='utf-8', index=False)"
   ]
  },
  {
   "cell_type": "code",
   "execution_count": 5,
   "metadata": {},
   "outputs": [],
   "source": [
    "features_to_encode = ['director_one_hot','country_one_hot','listed_in_one_hot']\n",
    "for feature in features_to_encode:\n",
    "    netflix=eab(netflix, feature)"
   ]
  },
  {
   "cell_type": "code",
   "execution_count": 7,
   "metadata": {},
   "outputs": [],
   "source": [
    "netflix.to_csv('netflix2.csv', encoding='utf-8', index=False)"
   ]
  },
  {
   "cell_type": "code",
   "execution_count": 84,
   "metadata": {},
   "outputs": [],
   "source": []
  }
 ],
 "metadata": {
  "colab": {
   "collapsed_sections": [],
   "name": "Lab1b.ipynb",
   "provenance": []
  },
  "kernelspec": {
   "display_name": "Python 3",
   "language": "python",
   "name": "python3"
  },
  "language_info": {
   "codemirror_mode": {
    "name": "ipython",
    "version": 3
   },
   "file_extension": ".py",
   "mimetype": "text/x-python",
   "name": "python",
   "nbconvert_exporter": "python",
   "pygments_lexer": "ipython3",
   "version": "3.7.6"
  }
 },
 "nbformat": 4,
 "nbformat_minor": 1
}
