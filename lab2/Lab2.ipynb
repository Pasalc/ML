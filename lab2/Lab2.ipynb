{
 "cells": [
  {
   "cell_type": "markdown",
   "metadata": {},
   "source": [
    "# **Лабораторная работа 2**\n",
    "\n",
    "В этой лабораторной работе необхадимо сделать свой реализацию алгоритмов машинного обучения, и сравнить её с реализацией на sklearn для 2 датасетов, полученных в предыдущей лабораторной работе."
   ]
  },
  {
   "cell_type": "code",
   "execution_count": 2,
   "metadata": {
    "colab": {},
    "colab_type": "code",
    "id": "J3aex11XG1R7"
   },
   "outputs": [],
   "source": [
    "import pandas\n",
    "import numpy as np\n",
    "from sklearn.metrics import precision_score, recall_score, accuracy_score\n",
    "from sklearn.model_selection import StratifiedKFold\n",
    "from sklearn.utils import check_random_state\n",
    "from sklearn import preprocessing\n",
    "from sklearn.model_selection import train_test_split\n",
    "from sklearn.linear_model import LogisticRegression\n",
    "from sklearn.neighbors import KNeighborsClassifier\n",
    "from sklearn.tree import DecisionTreeClassifier\n",
    "from sklearn.ensemble import RandomForestClassifier\n",
    "from sklearn.svm import SVC\n",
    "import time\n",
    "import warnings\n",
    "warnings.filterwarnings(\"ignore\")\n",
    "from collections import Counter\n",
    "import sys"
   ]
  },
  {
   "cell_type": "markdown",
   "metadata": {},
   "source": [
    "Заготавливаем функцию, которая будет отвечать за обучение, тестирование, подсчёт точности и др."
   ]
  },
  {
   "cell_type": "code",
   "execution_count": 495,
   "metadata": {
    "colab": {},
    "colab_type": "code",
    "id": "Qv3dzwsKG1lo"
   },
   "outputs": [],
   "source": [
    "def DisplayMetrics(Method, X, Y, folds = 5, average = 'macro'):\n",
    "  kf = StratifiedKFold(n_splits = folds, random_state = 128, shuffle = True)\n",
    "  precision = np.zeros(folds)   \n",
    "  recall = np.zeros(folds)  \n",
    "  testAc = np.zeros(folds)\n",
    "  trainAc = np.zeros(folds)\n",
    "  X=X.astype(np.float32)\n",
    "  for step, (trainI, valI) in enumerate(kf.split(X, Y)):\n",
    "    TrX, TrY = X.loc[trainI].to_numpy(), Y.loc[trainI].to_numpy()\n",
    "    ValX, ValY = X.loc[valI].to_numpy(), Y.loc[valI].to_numpy()\n",
    "    Method.fit(TrX, TrY)\n",
    "    PredY = Method.predict(ValX)\n",
    "    PredTrY = Method.predict(TrX)\n",
    "    precision[step] = precision_score(ValY, PredY, average = average)\n",
    "    recall[step] = recall_score(ValY, PredY, average = average)\n",
    "    trainAc[step] = accuracy_score(TrY, PredTrY)\n",
    "    testAc[step] = accuracy_score(ValY, PredY)\n",
    "  print(\"precision:\", precision.mean())\n",
    "  print(\"recall:\", recall.mean())\n",
    "  print(\"train_accuracy:\", trainAc.mean())\n",
    "  print(\"test_accuracy:\", testAc.mean())"
   ]
  },
  {
   "cell_type": "markdown",
   "metadata": {},
   "source": [
    "## **Реализация своими руками**\n",
    "\n",
    "Логистическая регрессия"
   ]
  },
  {
   "cell_type": "code",
   "execution_count": 72,
   "metadata": {
    "colab": {},
    "colab_type": "code",
    "id": "IYTVDoMsG7M2"
   },
   "outputs": [],
   "source": [
    "class LogReg():\n",
    "    def __init__(self, learning_rate = 0.01, grad_iters=100):\n",
    "        self.lr = learning_rate\n",
    "        self.gi = grad_iters\n",
    "\n",
    "    def __sigmoid(self, x):\n",
    "        return 1.0 / (1.0 + np.e ** (-x))\n",
    "\n",
    "    def __loss(self, h, y):\n",
    "        return (-y * np.log(h) - (1 - y) * np.log(1 - h)).mean()\n",
    "\n",
    "    def __add_intercept(self, X):\n",
    "        return np.concatenate((np.ones((X.shape[0], 1)), X), axis=1)\n",
    "\n",
    "    def fit(self, X, y):\n",
    "        #print(X.dtype)\n",
    "        X = self.__add_intercept(X)\n",
    "        self.w = np.zeros(X.shape[1])\n",
    "\n",
    "        for _ in range(self.gi):\n",
    "            h = self.__sigmoid(np.dot(X, self.w))\n",
    "            g = np.dot(X.T, (h - y)) / y.size\n",
    "            self.w -=  (self.lr * g).astype(np.float64)\n",
    "        pass\n",
    "\n",
    "    def __predict_probability(self, X):\n",
    "        X = self.__add_intercept(X)\n",
    "        return self.__sigmoid(np.dot(X, self.w))\n",
    "\n",
    "    def predict(self, X, threshold=0.5):\n",
    "        return self.__predict_probability(X) >= threshold"
   ]
  },
  {
   "cell_type": "markdown",
   "metadata": {},
   "source": [
    "KNN"
   ]
  },
  {
   "cell_type": "code",
   "execution_count": 487,
   "metadata": {},
   "outputs": [],
   "source": [
    "class KNN():\n",
    "    def __init__(self, neighbors=5):\n",
    "        self.nn = neighbors\n",
    "        self.breakraiser = 0\n",
    "    \n",
    "    def fit(self, X, y):\n",
    "        self.X = X\n",
    "        self.y = y.reshape((y.shape[0], 1))\n",
    "\n",
    "    def __get_distances(self, p):\n",
    "        t = (self.X - p)\n",
    "        return np.sqrt((t**2).sum(1))\n",
    "\n",
    "    def predict(self, X):\n",
    "        n = X.shape[0]\n",
    "        y_pred = np.zeros(n)\n",
    "        y_sorted = np.zeros(self.nn)\n",
    "        countF=0\n",
    "        for i in range(n):\n",
    "            d = self.__get_distances(X[i])\n",
    "            for it,val in enumerate(np.argpartition(d, self.nn)[:self.nn]):\n",
    "                y_sorted[it]=self.y[val]\n",
    "            y_pred[i] = Counter(y_sorted).most_common(1)[0][0]\n",
    "        return y_pred"
   ]
  },
  {
   "cell_type": "markdown",
   "metadata": {},
   "source": [
    "Дерево решений"
   ]
  },
  {
   "cell_type": "code",
   "execution_count": 6,
   "metadata": {
    "colab": {},
    "colab_type": "code",
    "id": "xIwDhiJkGuUO"
   },
   "outputs": [],
   "source": [
    "class Node():\n",
    "  def __init__(self, predType):\n",
    "    self.predType = predType\n",
    "    self.iFeature = 0\n",
    "    self.border = 0\n",
    "    self.left = None\n",
    "    self.right = None\n",
    "\n",
    "class DecisionTree():\n",
    "  def __init__(self, mDepth = 1, rf = False):\n",
    "    self.mDepth = mDepth\n",
    "    self.rf = rf\n",
    "\n",
    "  def fit(self, X, y, maxFeatures = None):\n",
    "    self.sizeY = len(set(y))\n",
    "    self.setY  = set(y)\n",
    "    self.dictY = {t:i for i,t in enumerate(self.setY)}\n",
    "    #print(self.dictY)\n",
    "    if not self.rf:\n",
    "      Features = X.shape[1]\n",
    "    else:\n",
    "      ind = np.random.choice(X.shape[0], X.shape[0])\n",
    "      X, y = X[tuple([ind])], y[tuple([ind])]\n",
    "      if maxFeatures is None:\n",
    "        Features = np.sqrt(X.shape[1]).astype(int)\n",
    "      else:\n",
    "        Features = maxFeatures\n",
    "    self.features = np.sort(np.random.choice(X.shape[1], Features, replace = False))\n",
    "    self.tree = self.UpdateTree(X, y)\n",
    "\n",
    "  def predict(self, X):\n",
    "    list = []\n",
    "    for inputs in X:\n",
    "      node = self.tree\n",
    "      while node.left:\n",
    "        if inputs[node.iFeature] < node.border:\n",
    "          node = node.left\n",
    "        else:\n",
    "          node = node.right\n",
    "      list.append(node.predType)\n",
    "    return list\n",
    "\n",
    "  def Split(self, X, y):\n",
    "    m = y.size    \n",
    "    if m <= 1:\n",
    "      return None, None\n",
    "    parent = [np.sum(y == c) for c in self.setY]\n",
    "    bGini = 1.0 - sum((n / m) ** 2 for n in parent)\n",
    "    bIdx, bThr = None, None\n",
    "    dic=self.dictY\n",
    "    for idx in self.features:\n",
    "      borders, types = zip(*sorted(zip(X[:, idx], y)))\n",
    "      left = [0] * self.sizeY\n",
    "      right = parent.copy()\n",
    "      for i in range(1, m):\n",
    "        c = types[i - 1]\n",
    "        #print(c)\n",
    "        right[dic[c]] -= 1\n",
    "        left[dic[c]] += 1\n",
    "        giniLeft = 1.0 - sum((left[dic[x]] / i) ** 2 for x in self.setY)\n",
    "        giniRight = 1.0 - sum((right[dic[x]] / (m - i)) ** 2 for x in self.setY)\n",
    "        gini = (i * giniLeft + (m - i) * giniRight) / m\n",
    "        if borders[i] == borders[i - 1]:\n",
    "          continue\n",
    "        if gini < bGini:\n",
    "          bGini = gini\n",
    "          bIdx = idx\n",
    "          bThr = (borders[i] + borders[i - 1]) / 2\n",
    "    return bIdx, bThr\n",
    "\n",
    "  def UpdateTree(self, X, y, depth = 0):\n",
    "    sPerClass = [np.sum(y == i) for i in self.setY]\n",
    "    predType = np.argmax(sPerClass)\n",
    "    node = Node(predType = predType)\n",
    "    if depth < self.mDepth:      \n",
    "      idx, thr = self.Split(X, y)\n",
    "      if idx is not None:\n",
    "        Lidx = X[:, idx] < thr\n",
    "        lx, ly = X[Lidx], y[Lidx]\n",
    "        rx, ry = X[~Lidx], y[~Lidx]\n",
    "        node.iFeature = idx\n",
    "        node.border = thr\n",
    "        node.left = self.UpdateTree(lx, ly, depth + 1)\n",
    "        node.right = self.UpdateTree(rx, ry, depth + 1)\n",
    "    return node"
   ]
  },
  {
   "cell_type": "markdown",
   "metadata": {},
   "source": [
    "Случайный лес"
   ]
  },
  {
   "cell_type": "code",
   "execution_count": 7,
   "metadata": {
    "colab": {},
    "colab_type": "code",
    "id": "QsqmHVrneYPI"
   },
   "outputs": [],
   "source": [
    "class RandomForest():\n",
    "    def __init__(self, max_depth=5, n_estimators=100, max_features=None):\n",
    "        self.max_depth = max_depth\n",
    "        self.max_features = max_features\n",
    "        self.n_estimators = n_estimators\n",
    "        self.forest = [None] * n_estimators\n",
    "\n",
    "    def fit(self, X, y):\n",
    "        for i in range(self.n_estimators):\n",
    "            self.forest[i] = DecisionTree(\n",
    "                self.max_depth, rf=True) \n",
    "            self.forest[i].fit(X, y)\n",
    "\n",
    "\n",
    "    def predict(self, X):\n",
    "        most_common = np.zeros(X.shape[0])\n",
    "        preds = np.zeros((self.n_estimators, X.shape[0]))\n",
    "        for i in range(self.n_estimators):\n",
    "            preds[i] = self.forest[i].predict(X)\n",
    "        for i in range(len(most_common)):\n",
    "            most_common[i] = Counter(preds[:, i]).most_common(1)[0][0]\n",
    "        return most_common.astype(int)"
   ]
  },
  {
   "cell_type": "markdown",
   "metadata": {
    "colab_type": "text",
    "id": "YHapjanMc1_1"
   },
   "source": [
    "# **Первый датасет - Education**\n",
    "\n",
    "Для этого датасета мы попробуем определить, наберёт ли поступающий более 65 баллов за математику при поступлении. "
   ]
  },
  {
   "cell_type": "code",
   "execution_count": 3,
   "metadata": {
    "colab": {},
    "colab_type": "code",
    "id": "JWdXyYN1c2mG"
   },
   "outputs": [
    {
     "data": {
      "text/html": [
       "<div>\n",
       "<style scoped>\n",
       "    .dataframe tbody tr th:only-of-type {\n",
       "        vertical-align: middle;\n",
       "    }\n",
       "\n",
       "    .dataframe tbody tr th {\n",
       "        vertical-align: top;\n",
       "    }\n",
       "\n",
       "    .dataframe thead th {\n",
       "        text-align: right;\n",
       "    }\n",
       "</style>\n",
       "<table border=\"1\" class=\"dataframe\">\n",
       "  <thead>\n",
       "    <tr style=\"text-align: right;\">\n",
       "      <th></th>\n",
       "      <th>reading score</th>\n",
       "      <th>writing score</th>\n",
       "      <th>race/ethnicity_group A</th>\n",
       "      <th>race/ethnicity_group B</th>\n",
       "      <th>race/ethnicity_group C</th>\n",
       "      <th>race/ethnicity_group D</th>\n",
       "      <th>race/ethnicity_group E</th>\n",
       "      <th>parental level of education_associate's degree</th>\n",
       "      <th>parental level of education_bachelor's degree</th>\n",
       "      <th>parental level of education_high school</th>\n",
       "      <th>parental level of education_master's degree</th>\n",
       "      <th>parental level of education_some college</th>\n",
       "      <th>parental level of education_some high school</th>\n",
       "      <th>lunch_free/reduced</th>\n",
       "      <th>lunch_standard</th>\n",
       "      <th>test preparation course_completed</th>\n",
       "      <th>test preparation course_none</th>\n",
       "      <th>gender_female</th>\n",
       "      <th>gender_male</th>\n",
       "    </tr>\n",
       "  </thead>\n",
       "  <tbody>\n",
       "    <tr>\n",
       "      <th>0</th>\n",
       "      <td>72</td>\n",
       "      <td>74</td>\n",
       "      <td>0</td>\n",
       "      <td>1</td>\n",
       "      <td>0</td>\n",
       "      <td>0</td>\n",
       "      <td>0</td>\n",
       "      <td>0</td>\n",
       "      <td>1</td>\n",
       "      <td>0</td>\n",
       "      <td>0</td>\n",
       "      <td>0</td>\n",
       "      <td>0</td>\n",
       "      <td>0</td>\n",
       "      <td>1</td>\n",
       "      <td>0</td>\n",
       "      <td>1</td>\n",
       "      <td>1</td>\n",
       "      <td>0</td>\n",
       "    </tr>\n",
       "    <tr>\n",
       "      <th>1</th>\n",
       "      <td>90</td>\n",
       "      <td>88</td>\n",
       "      <td>0</td>\n",
       "      <td>0</td>\n",
       "      <td>1</td>\n",
       "      <td>0</td>\n",
       "      <td>0</td>\n",
       "      <td>0</td>\n",
       "      <td>0</td>\n",
       "      <td>0</td>\n",
       "      <td>0</td>\n",
       "      <td>1</td>\n",
       "      <td>0</td>\n",
       "      <td>0</td>\n",
       "      <td>1</td>\n",
       "      <td>1</td>\n",
       "      <td>0</td>\n",
       "      <td>1</td>\n",
       "      <td>0</td>\n",
       "    </tr>\n",
       "    <tr>\n",
       "      <th>2</th>\n",
       "      <td>95</td>\n",
       "      <td>93</td>\n",
       "      <td>0</td>\n",
       "      <td>1</td>\n",
       "      <td>0</td>\n",
       "      <td>0</td>\n",
       "      <td>0</td>\n",
       "      <td>0</td>\n",
       "      <td>0</td>\n",
       "      <td>0</td>\n",
       "      <td>1</td>\n",
       "      <td>0</td>\n",
       "      <td>0</td>\n",
       "      <td>0</td>\n",
       "      <td>1</td>\n",
       "      <td>0</td>\n",
       "      <td>1</td>\n",
       "      <td>1</td>\n",
       "      <td>0</td>\n",
       "    </tr>\n",
       "    <tr>\n",
       "      <th>3</th>\n",
       "      <td>57</td>\n",
       "      <td>44</td>\n",
       "      <td>1</td>\n",
       "      <td>0</td>\n",
       "      <td>0</td>\n",
       "      <td>0</td>\n",
       "      <td>0</td>\n",
       "      <td>1</td>\n",
       "      <td>0</td>\n",
       "      <td>0</td>\n",
       "      <td>0</td>\n",
       "      <td>0</td>\n",
       "      <td>0</td>\n",
       "      <td>1</td>\n",
       "      <td>0</td>\n",
       "      <td>0</td>\n",
       "      <td>1</td>\n",
       "      <td>0</td>\n",
       "      <td>1</td>\n",
       "    </tr>\n",
       "    <tr>\n",
       "      <th>4</th>\n",
       "      <td>78</td>\n",
       "      <td>75</td>\n",
       "      <td>0</td>\n",
       "      <td>0</td>\n",
       "      <td>1</td>\n",
       "      <td>0</td>\n",
       "      <td>0</td>\n",
       "      <td>0</td>\n",
       "      <td>0</td>\n",
       "      <td>0</td>\n",
       "      <td>0</td>\n",
       "      <td>1</td>\n",
       "      <td>0</td>\n",
       "      <td>0</td>\n",
       "      <td>1</td>\n",
       "      <td>0</td>\n",
       "      <td>1</td>\n",
       "      <td>0</td>\n",
       "      <td>1</td>\n",
       "    </tr>\n",
       "  </tbody>\n",
       "</table>\n",
       "</div>"
      ],
      "text/plain": [
       "   reading score  writing score  race/ethnicity_group A  \\\n",
       "0             72             74                       0   \n",
       "1             90             88                       0   \n",
       "2             95             93                       0   \n",
       "3             57             44                       1   \n",
       "4             78             75                       0   \n",
       "\n",
       "   race/ethnicity_group B  race/ethnicity_group C  race/ethnicity_group D  \\\n",
       "0                       1                       0                       0   \n",
       "1                       0                       1                       0   \n",
       "2                       1                       0                       0   \n",
       "3                       0                       0                       0   \n",
       "4                       0                       1                       0   \n",
       "\n",
       "   race/ethnicity_group E  parental level of education_associate's degree  \\\n",
       "0                       0                                               0   \n",
       "1                       0                                               0   \n",
       "2                       0                                               0   \n",
       "3                       0                                               1   \n",
       "4                       0                                               0   \n",
       "\n",
       "   parental level of education_bachelor's degree  \\\n",
       "0                                              1   \n",
       "1                                              0   \n",
       "2                                              0   \n",
       "3                                              0   \n",
       "4                                              0   \n",
       "\n",
       "   parental level of education_high school  \\\n",
       "0                                        0   \n",
       "1                                        0   \n",
       "2                                        0   \n",
       "3                                        0   \n",
       "4                                        0   \n",
       "\n",
       "   parental level of education_master's degree  \\\n",
       "0                                            0   \n",
       "1                                            0   \n",
       "2                                            1   \n",
       "3                                            0   \n",
       "4                                            0   \n",
       "\n",
       "   parental level of education_some college  \\\n",
       "0                                         0   \n",
       "1                                         1   \n",
       "2                                         0   \n",
       "3                                         0   \n",
       "4                                         1   \n",
       "\n",
       "   parental level of education_some high school  lunch_free/reduced  \\\n",
       "0                                             0                   0   \n",
       "1                                             0                   0   \n",
       "2                                             0                   0   \n",
       "3                                             0                   1   \n",
       "4                                             0                   0   \n",
       "\n",
       "   lunch_standard  test preparation course_completed  \\\n",
       "0               1                                  0   \n",
       "1               1                                  1   \n",
       "2               1                                  0   \n",
       "3               0                                  0   \n",
       "4               1                                  0   \n",
       "\n",
       "   test preparation course_none  gender_female  gender_male  \n",
       "0                             1              1            0  \n",
       "1                             0              1            0  \n",
       "2                             1              1            0  \n",
       "3                             1              0            1  \n",
       "4                             1              0            1  "
      ]
     },
     "execution_count": 3,
     "metadata": {},
     "output_type": "execute_result"
    }
   ],
   "source": [
    "Ed = pandas.read_csv(\"Education.csv\")\n",
    "required = list(Ed)\n",
    "del required[required.index('math score')]\n",
    "y = Ed[\"math score\"]//65\n",
    "x = pandas.get_dummies(Ed[required])\n",
    "x.head()"
   ]
  },
  {
   "cell_type": "markdown",
   "metadata": {},
   "source": [
    "## **Реализация на sklearn**\n",
    "\n",
    "Логистическая регрессия"
   ]
  },
  {
   "cell_type": "code",
   "execution_count": 45,
   "metadata": {},
   "outputs": [
    {
     "name": "stdout",
     "output_type": "stream",
     "text": [
      "precision: 0.8799537583332764\n",
      "recall: 0.8762433321983882\n",
      "train_accuracy: 0.8905000000000001\n",
      "test_accuracy: 0.8789999999999999\n",
      "Wall time: 921 ms\n"
     ]
    }
   ],
   "source": [
    "%%time\n",
    "DisplayMetrics(LogisticRegression(), x, y)"
   ]
  },
  {
   "cell_type": "markdown",
   "metadata": {},
   "source": [
    "KNN"
   ]
  },
  {
   "cell_type": "code",
   "execution_count": 71,
   "metadata": {},
   "outputs": [
    {
     "name": "stdout",
     "output_type": "stream",
     "text": [
      "precision: 0.8143771793285092\n",
      "recall: 0.8132535190962157\n",
      "train_accuracy: 0.87675\n",
      "test_accuracy: 0.8160000000000001\n",
      "Wall time: 1.21 s\n"
     ]
    }
   ],
   "source": [
    "%%time\n",
    "DisplayMetrics(KNeighborsClassifier(n_neighbors=5), x, y) "
   ]
  },
  {
   "cell_type": "markdown",
   "metadata": {},
   "source": [
    "Дерево решений"
   ]
  },
  {
   "cell_type": "code",
   "execution_count": 82,
   "metadata": {},
   "outputs": [
    {
     "name": "stdout",
     "output_type": "stream",
     "text": [
      "precision: 0.8668050143905729\n",
      "recall: 0.8643116558846897\n",
      "train_accuracy: 0.8960000000000001\n",
      "test_accuracy: 0.8669999999999998\n",
      "Wall time: 221 ms\n"
     ]
    }
   ],
   "source": [
    "%%time\n",
    "DisplayMetrics(DecisionTreeClassifier(max_depth=5), x, y)"
   ]
  },
  {
   "cell_type": "markdown",
   "metadata": {},
   "source": [
    "Случайный лес"
   ]
  },
  {
   "cell_type": "code",
   "execution_count": 83,
   "metadata": {},
   "outputs": [
    {
     "name": "stdout",
     "output_type": "stream",
     "text": [
      "precision: 0.819732817881014\n",
      "recall: 0.815822850429592\n",
      "train_accuracy: 0.8275\n",
      "test_accuracy: 0.8200000000000001\n",
      "Wall time: 1.98 s\n"
     ]
    }
   ],
   "source": [
    "%%time \n",
    "DisplayMetrics(RandomForestClassifier(n_estimators=50, max_depth=2), x, y) "
   ]
  },
  {
   "cell_type": "markdown",
   "metadata": {},
   "source": [
    "## **Реализация своими руками**\n",
    "\n",
    "Логистическая регрессия"
   ]
  },
  {
   "cell_type": "code",
   "execution_count": 67,
   "metadata": {
    "colab": {
     "base_uri": "https://localhost:8080/",
     "height": 136
    },
    "colab_type": "code",
    "id": "4jWI1v-nc3pD",
    "outputId": "2477ac3d-0a27-4beb-f076-fc850abee43c"
   },
   "outputs": [
    {
     "name": "stdout",
     "output_type": "stream",
     "text": [
      "precision: 0.27649999999999997\n",
      "recall: 0.5\n",
      "train_accuracy: 0.5529999999999999\n",
      "test_accuracy: 0.5529999999999999\n",
      "Wall time: 3.86 s\n"
     ]
    }
   ],
   "source": [
    "%%time\n",
    "DisplayMetrics(LogReg(grad_iters=100), x, y)"
   ]
  },
  {
   "cell_type": "markdown",
   "metadata": {},
   "source": [
    "KNN"
   ]
  },
  {
   "cell_type": "code",
   "execution_count": 72,
   "metadata": {
    "colab": {
     "base_uri": "https://localhost:8080/",
     "height": 136
    },
    "colab_type": "code",
    "id": "GtubAxMSc3wI",
    "outputId": "0f993056-2732-4665-aa34-39d1908dc12e"
   },
   "outputs": [
    {
     "name": "stdout",
     "output_type": "stream",
     "text": [
      "precision: 0.7945751306345112\n",
      "recall: 0.7921017953602224\n",
      "train_accuracy: 0.8885\n",
      "test_accuracy: 0.796\n",
      "Wall time: 18.3 s\n"
     ]
    }
   ],
   "source": [
    "%%time\n",
    "%prun KNN\n",
    "DisplayMetrics(KNN(neighbors = 3), x, y)"
   ]
  },
  {
   "cell_type": "markdown",
   "metadata": {},
   "source": [
    "Дерево решений"
   ]
  },
  {
   "cell_type": "code",
   "execution_count": 78,
   "metadata": {
    "colab": {
     "base_uri": "https://localhost:8080/",
     "height": 136
    },
    "colab_type": "code",
    "id": "s9123HRNc33b",
    "outputId": "c6708697-50bb-4f23-d2ea-4d7ed0ed5ed7"
   },
   "outputs": [
    {
     "name": "stdout",
     "output_type": "stream",
     "text": [
      "precision: 0.8618459805140043\n",
      "recall: 0.8595848555399115\n",
      "train_accuracy: 0.88225\n",
      "test_accuracy: 0.8620000000000001\n",
      "Wall time: 10 s\n"
     ]
    }
   ],
   "source": [
    "%%time\n",
    "DisplayMetrics(DecisionTree(mDepth = 4), x, y)"
   ]
  },
  {
   "cell_type": "markdown",
   "metadata": {},
   "source": [
    "Случайный лес"
   ]
  },
  {
   "cell_type": "code",
   "execution_count": 79,
   "metadata": {
    "colab": {
     "base_uri": "https://localhost:8080/",
     "height": 136
    },
    "colab_type": "code",
    "id": "UxtO6jywggeI",
    "outputId": "d88a2987-8d52-4b11-c050-1ca4505e687d"
   },
   "outputs": [
    {
     "name": "stdout",
     "output_type": "stream",
     "text": [
      "precision: 0.8032659792812895\n",
      "recall: 0.7644576343452748\n",
      "train_accuracy: 0.8190000000000002\n",
      "test_accuracy: 0.7809999999999999\n",
      "Wall time: 3min 53s\n"
     ]
    }
   ],
   "source": [
    "%%time\n",
    "DisplayMetrics(RandomForest(), x, y)"
   ]
  },
  {
   "cell_type": "markdown",
   "metadata": {
    "colab_type": "text",
    "id": "lSwMEAJgc4PV"
   },
   "source": [
    "# **Второй датасет - netflix**\n",
    "\n",
    "Для второго датасета попробуем определить сколько будет идти фильм, с точностью до десяти минут."
   ]
  },
  {
   "cell_type": "code",
   "execution_count": 4,
   "metadata": {
    "colab": {
     "base_uri": "https://localhost:8080/",
     "height": 204
    },
    "colab_type": "code",
    "id": "zsTeGrw0c4bz",
    "outputId": "8b27fb24-d7aa-4c48-949e-8235c72cb0e8"
   },
   "outputs": [
    {
     "data": {
      "text/html": [
       "<div>\n",
       "<style scoped>\n",
       "    .dataframe tbody tr th:only-of-type {\n",
       "        vertical-align: middle;\n",
       "    }\n",
       "\n",
       "    .dataframe tbody tr th {\n",
       "        vertical-align: top;\n",
       "    }\n",
       "\n",
       "    .dataframe thead th {\n",
       "        text-align: right;\n",
       "    }\n",
       "</style>\n",
       "<table border=\"1\" class=\"dataframe\">\n",
       "  <thead>\n",
       "    <tr style=\"text-align: right;\">\n",
       "      <th></th>\n",
       "      <th>release_year</th>\n",
       "      <th>type_Movie</th>\n",
       "      <th>rating_G</th>\n",
       "      <th>rating_NC-17</th>\n",
       "      <th>rating_NR</th>\n",
       "      <th>rating_PG</th>\n",
       "      <th>rating_PG-13</th>\n",
       "      <th>rating_R</th>\n",
       "      <th>rating_TV-14</th>\n",
       "      <th>rating_TV-G</th>\n",
       "      <th>...</th>\n",
       "      <th>listed_in_en_[9, 13, 16]</th>\n",
       "      <th>listed_in_en_[9, 13, 17]</th>\n",
       "      <th>listed_in_en_[9, 13, 27]</th>\n",
       "      <th>listed_in_en_[9, 15, 16]</th>\n",
       "      <th>listed_in_en_[9, 16, 17]</th>\n",
       "      <th>listed_in_en_[9, 16, 26]</th>\n",
       "      <th>listed_in_en_[9, 16, 29]</th>\n",
       "      <th>listed_in_en_[9, 16]</th>\n",
       "      <th>listed_in_en_[9, 17, 29]</th>\n",
       "      <th>listed_in_en_[9, 27]</th>\n",
       "    </tr>\n",
       "  </thead>\n",
       "  <tbody>\n",
       "    <tr>\n",
       "      <th>0</th>\n",
       "      <td>2019</td>\n",
       "      <td>1</td>\n",
       "      <td>0</td>\n",
       "      <td>0</td>\n",
       "      <td>0</td>\n",
       "      <td>0</td>\n",
       "      <td>0</td>\n",
       "      <td>0</td>\n",
       "      <td>0</td>\n",
       "      <td>0</td>\n",
       "      <td>...</td>\n",
       "      <td>0</td>\n",
       "      <td>0</td>\n",
       "      <td>0</td>\n",
       "      <td>0</td>\n",
       "      <td>0</td>\n",
       "      <td>0</td>\n",
       "      <td>0</td>\n",
       "      <td>0</td>\n",
       "      <td>0</td>\n",
       "      <td>0</td>\n",
       "    </tr>\n",
       "    <tr>\n",
       "      <th>1</th>\n",
       "      <td>2016</td>\n",
       "      <td>1</td>\n",
       "      <td>0</td>\n",
       "      <td>0</td>\n",
       "      <td>0</td>\n",
       "      <td>0</td>\n",
       "      <td>0</td>\n",
       "      <td>0</td>\n",
       "      <td>0</td>\n",
       "      <td>0</td>\n",
       "      <td>...</td>\n",
       "      <td>0</td>\n",
       "      <td>0</td>\n",
       "      <td>0</td>\n",
       "      <td>0</td>\n",
       "      <td>0</td>\n",
       "      <td>0</td>\n",
       "      <td>0</td>\n",
       "      <td>0</td>\n",
       "      <td>0</td>\n",
       "      <td>0</td>\n",
       "    </tr>\n",
       "    <tr>\n",
       "      <th>2</th>\n",
       "      <td>2017</td>\n",
       "      <td>1</td>\n",
       "      <td>0</td>\n",
       "      <td>0</td>\n",
       "      <td>0</td>\n",
       "      <td>0</td>\n",
       "      <td>0</td>\n",
       "      <td>0</td>\n",
       "      <td>1</td>\n",
       "      <td>0</td>\n",
       "      <td>...</td>\n",
       "      <td>0</td>\n",
       "      <td>0</td>\n",
       "      <td>0</td>\n",
       "      <td>0</td>\n",
       "      <td>0</td>\n",
       "      <td>0</td>\n",
       "      <td>0</td>\n",
       "      <td>0</td>\n",
       "      <td>0</td>\n",
       "      <td>0</td>\n",
       "    </tr>\n",
       "    <tr>\n",
       "      <th>3</th>\n",
       "      <td>2014</td>\n",
       "      <td>1</td>\n",
       "      <td>0</td>\n",
       "      <td>0</td>\n",
       "      <td>0</td>\n",
       "      <td>0</td>\n",
       "      <td>0</td>\n",
       "      <td>1</td>\n",
       "      <td>0</td>\n",
       "      <td>0</td>\n",
       "      <td>...</td>\n",
       "      <td>0</td>\n",
       "      <td>0</td>\n",
       "      <td>0</td>\n",
       "      <td>0</td>\n",
       "      <td>0</td>\n",
       "      <td>0</td>\n",
       "      <td>0</td>\n",
       "      <td>0</td>\n",
       "      <td>0</td>\n",
       "      <td>0</td>\n",
       "    </tr>\n",
       "    <tr>\n",
       "      <th>4</th>\n",
       "      <td>2017</td>\n",
       "      <td>1</td>\n",
       "      <td>0</td>\n",
       "      <td>0</td>\n",
       "      <td>0</td>\n",
       "      <td>0</td>\n",
       "      <td>0</td>\n",
       "      <td>0</td>\n",
       "      <td>0</td>\n",
       "      <td>0</td>\n",
       "      <td>...</td>\n",
       "      <td>0</td>\n",
       "      <td>0</td>\n",
       "      <td>0</td>\n",
       "      <td>0</td>\n",
       "      <td>0</td>\n",
       "      <td>0</td>\n",
       "      <td>0</td>\n",
       "      <td>0</td>\n",
       "      <td>0</td>\n",
       "      <td>0</td>\n",
       "    </tr>\n",
       "  </tbody>\n",
       "</table>\n",
       "<p>5 rows × 3941 columns</p>\n",
       "</div>"
      ],
      "text/plain": [
       "   release_year  type_Movie  rating_G  rating_NC-17  rating_NR  rating_PG  \\\n",
       "0          2019           1         0             0          0          0   \n",
       "1          2016           1         0             0          0          0   \n",
       "2          2017           1         0             0          0          0   \n",
       "3          2014           1         0             0          0          0   \n",
       "4          2017           1         0             0          0          0   \n",
       "\n",
       "   rating_PG-13  rating_R  rating_TV-14  rating_TV-G  ...  \\\n",
       "0             0         0             0            0  ...   \n",
       "1             0         0             0            0  ...   \n",
       "2             0         0             1            0  ...   \n",
       "3             0         1             0            0  ...   \n",
       "4             0         0             0            0  ...   \n",
       "\n",
       "   listed_in_en_[9, 13, 16]  listed_in_en_[9, 13, 17]  \\\n",
       "0                         0                         0   \n",
       "1                         0                         0   \n",
       "2                         0                         0   \n",
       "3                         0                         0   \n",
       "4                         0                         0   \n",
       "\n",
       "   listed_in_en_[9, 13, 27]  listed_in_en_[9, 15, 16]  \\\n",
       "0                         0                         0   \n",
       "1                         0                         0   \n",
       "2                         0                         0   \n",
       "3                         0                         0   \n",
       "4                         0                         0   \n",
       "\n",
       "   listed_in_en_[9, 16, 17]  listed_in_en_[9, 16, 26]  \\\n",
       "0                         0                         0   \n",
       "1                         0                         0   \n",
       "2                         0                         0   \n",
       "3                         0                         0   \n",
       "4                         0                         0   \n",
       "\n",
       "   listed_in_en_[9, 16, 29]  listed_in_en_[9, 16]  listed_in_en_[9, 17, 29]  \\\n",
       "0                         0                     0                         0   \n",
       "1                         0                     0                         0   \n",
       "2                         0                     0                         0   \n",
       "3                         0                     0                         0   \n",
       "4                         0                     0                         0   \n",
       "\n",
       "   listed_in_en_[9, 27]  \n",
       "0                     0  \n",
       "1                     0  \n",
       "2                     0  \n",
       "3                     0  \n",
       "4                     0  \n",
       "\n",
       "[5 rows x 3941 columns]"
      ]
     },
     "execution_count": 4,
     "metadata": {},
     "output_type": "execute_result"
    }
   ],
   "source": [
    "netflix = pandas.read_csv(\"netflix.csv\")\n",
    "required = list(netflix)\n",
    "del required[required.index('duration')]\n",
    "Y = netflix['duration']//10\n",
    "X = pandas.get_dummies(netflix[required])\n",
    "X.head()"
   ]
  },
  {
   "cell_type": "markdown",
   "metadata": {
    "colab": {
     "base_uri": "https://localhost:8080/",
     "height": 34
    },
    "colab_type": "code",
    "id": "4gI3ZrNxcuwZ",
    "outputId": "7ceb1baf-d551-4127-e62c-16e6b21d224a"
   },
   "source": [
    "## **Реализация на sklearn**\n",
    "\n",
    "Логистическая регрессия"
   ]
  },
  {
   "cell_type": "code",
   "execution_count": 10,
   "metadata": {
    "scrolled": true
   },
   "outputs": [
    {
     "name": "stdout",
     "output_type": "stream",
     "text": [
      "precision: 0.057289344471137336\n",
      "recall: 0.06834272020190099\n",
      "train_accuracy: 0.25750361821608114\n",
      "test_accuracy: 0.24085745422122415\n",
      "Wall time: 21.6 s\n"
     ]
    }
   ],
   "source": [
    "%%time\n",
    "DisplayMetrics(LogisticRegression(), X, Y)"
   ]
  },
  {
   "cell_type": "markdown",
   "metadata": {},
   "source": [
    "KNN"
   ]
  },
  {
   "cell_type": "code",
   "execution_count": 11,
   "metadata": {},
   "outputs": [
    {
     "name": "stdout",
     "output_type": "stream",
     "text": [
      "precision: 0.13253749959218564\n",
      "recall: 0.1345102809396372\n",
      "train_accuracy: 0.4635901776990036\n",
      "test_accuracy: 0.22677487354765563\n",
      "Wall time: 2min 35s\n"
     ]
    }
   ],
   "source": [
    "%%time\n",
    "DisplayMetrics(KNeighborsClassifier(n_neighbors=5), X, Y) "
   ]
  },
  {
   "cell_type": "markdown",
   "metadata": {},
   "source": [
    "Дерево решений"
   ]
  },
  {
   "cell_type": "code",
   "execution_count": 12,
   "metadata": {},
   "outputs": [
    {
     "name": "stdout",
     "output_type": "stream",
     "text": [
      "precision: 0.1756315357029777\n",
      "recall: 0.14264320359351657\n",
      "train_accuracy: 0.4476419473168492\n",
      "test_accuracy: 0.28470710940122956\n",
      "Wall time: 3.63 s\n"
     ]
    }
   ],
   "source": [
    "%%time\n",
    "DisplayMetrics(DecisionTreeClassifier(max_depth=15), X, Y) "
   ]
  },
  {
   "cell_type": "markdown",
   "metadata": {},
   "source": [
    "Случайный лес"
   ]
  },
  {
   "cell_type": "code",
   "execution_count": 13,
   "metadata": {},
   "outputs": [
    {
     "name": "stdout",
     "output_type": "stream",
     "text": [
      "precision: 0.010579807488935174\n",
      "recall: 0.048095238095238094\n",
      "train_accuracy: 0.21998123098739578\n",
      "test_accuracy: 0.21998112158688748\n",
      "Wall time: 1.89 s\n"
     ]
    }
   ],
   "source": [
    "%%time \n",
    "DisplayMetrics(RandomForestClassifier(n_estimators=50, max_depth=2), X, Y)"
   ]
  },
  {
   "cell_type": "markdown",
   "metadata": {},
   "source": [
    "## **Реализация своими руками**\n",
    "\n",
    "Логистическая регрессия"
   ]
  },
  {
   "cell_type": "code",
   "execution_count": 14,
   "metadata": {
    "colab": {
     "base_uri": "https://localhost:8080/",
     "height": 136
    },
    "colab_type": "code",
    "id": "T8SZKqwLc4gO",
    "outputId": "290442a3-3e60-4dd5-b7f3-8d2c8897fe63"
   },
   "outputs": [
    {
     "name": "stdout",
     "output_type": "stream",
     "text": [
      "precision: 0.00011279478355085573\n",
      "recall: 0.048095238095238094\n",
      "train_accuracy: 0.002345215792091169\n",
      "test_accuracy: 0.0023452162761642146\n",
      "Wall time: 1min 16s\n"
     ]
    }
   ],
   "source": [
    "%%time\n",
    "DisplayMetrics(LogReg(), X, Y)"
   ]
  },
  {
   "cell_type": "markdown",
   "metadata": {},
   "source": [
    "KNN"
   ]
  },
  {
   "cell_type": "code",
   "execution_count": 489,
   "metadata": {
    "colab": {
     "base_uri": "https://localhost:8080/",
     "height": 136
    },
    "colab_type": "code",
    "id": "l-ijG7n7c4kF",
    "outputId": "b1166745-31c2-4fe6-dfcf-5c8138be595b"
   },
   "outputs": [
    {
     "name": "stdout",
     "output_type": "stream",
     "text": [
      "precision: 0.22260365975258342\n",
      "recall: 0.23779948153162822\n",
      "train_accuracy: 0.43058106608404023\n",
      "test_accuracy: 0.23779948153162822\n",
      "Wall time: 1h 14min 46s\n"
     ]
    }
   ],
   "source": [
    "%%time\n",
    "DisplayMetrics(KNN(neighbors = 8), X, Y)"
   ]
  },
  {
   "cell_type": "markdown",
   "metadata": {},
   "source": [
    "Дерево решений"
   ]
  },
  {
   "cell_type": "code",
   "execution_count": 490,
   "metadata": {
    "colab": {
     "base_uri": "https://localhost:8080/",
     "height": 136
    },
    "colab_type": "code",
    "id": "VA5G8mBtc4oE",
    "outputId": "b308e788-3aa0-4f06-e5af-eada57d01fd8"
   },
   "outputs": [
    {
     "name": "stdout",
     "output_type": "stream",
     "text": [
      "precision: 0.06381055279650785\n",
      "recall: 0.2258493909923\n",
      "train_accuracy: 0.2261362023355237\n",
      "test_accuracy: 0.2258493909923\n",
      "Wall time: 2h 9min 14s\n"
     ]
    }
   ],
   "source": [
    "%%time\n",
    "DisplayMetrics(DecisionTree(), X, Y)"
   ]
  },
  {
   "cell_type": "markdown",
   "metadata": {},
   "source": [
    "Случайный лес"
   ]
  },
  {
   "cell_type": "code",
   "execution_count": 84,
   "metadata": {
    "colab": {
     "base_uri": "https://localhost:8080/",
     "height": 136
    },
    "colab_type": "code",
    "id": "df_N9hlwc4mf",
    "outputId": "e13bcfd0-865b-4182-f87d-f8660e7189e5"
   },
   "outputs": [
    {
     "name": "stdout",
     "output_type": "stream",
     "text": [
      "precision: 0.01929252406453833\n",
      "recall: 0.048888888888888885\n",
      "train_accuracy: 0.203446473257508\n",
      "test_accuracy: 0.20309952721408564\n",
      "Wall time: 5min 45s\n"
     ]
    }
   ],
   "source": [
    "%%time\n",
    "DisplayMetrics(RandomForest(max_depth=2,n_estimators=2), X, Y)"
   ]
  },
  {
   "cell_type": "markdown",
   "metadata": {},
   "source": [
    "## Вывод ##"
   ]
  },
  {
   "cell_type": "markdown",
   "metadata": {},
   "source": [
    "Реализация своими руками сильно уступает в скорости реализации на sklearn. Причиной этому может быть как неоптимизированность моего кода(например привидения типа X к float32 дало прибавку в скорости в 8 раз), так и хорошая оптимизация кода sklearn. За исключением времени, все показатели оказалась на уровне с sklearn во всех случаях, кроме логистической регресии, вероятно я сильно накосячил в её реализации. При этом в первом датасете они оказалась значительно выше, чем во втором, как впрочем и должно быть, т.к. в первом датасете есть данные с оценками за другие предметы, и очевидно, что корреляция между ними и оценкой за математику довольно высока, во втором же датасете надо определить время по режесёрам и рейтингу и году выхода, что явно имеет довольно низкую корреляцию.\n",
    "\n",
    "Логистическая регрессия показала неплохую точность в 1-ом датасете, но имеет наихудшее показатели во 2-ом.\n",
    "KNN имеет неплохие результаты в 1-ом и 2-ом датасете, однако для второго датасета выполнялся слишком долго по сравнению с другими моделями.\n",
    "Во всех случаях дерево решений показало довольно неплохие показатели и выполнялось довольно быстро. \n",
    "Случайный лес имеет примерно одинаковое время выполнения для первого и второго датасета, вкупе  с неплохой точностью, однако уступает дереву решений в обоих датасетах. \n",
    "\n",
    "Пожалуй главным выводом будет никогда не пользоваться реализацией своими руками, т.к. она очень медленная(и при этом на втором датасете реализация KNN оказалась в 2 раза быстрее чем Дерево решений, что вызывает много вопросов)."
   ]
  }
 ],
 "metadata": {
  "colab": {
   "collapsed_sections": [],
   "name": "Lab2_spizdil.ipynb",
   "provenance": []
  },
  "kernelspec": {
   "display_name": "Python 3",
   "language": "python",
   "name": "python3"
  },
  "language_info": {
   "codemirror_mode": {
    "name": "ipython",
    "version": 3
   },
   "file_extension": ".py",
   "mimetype": "text/x-python",
   "name": "python",
   "nbconvert_exporter": "python",
   "pygments_lexer": "ipython3",
   "version": "3.7.6"
  }
 },
 "nbformat": 4,
 "nbformat_minor": 1
}
